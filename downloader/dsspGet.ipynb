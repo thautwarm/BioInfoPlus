{
 "cells": [
  {
   "cell_type": "code",
   "execution_count": 1,
   "metadata": {
    "collapsed": true
   },
   "outputs": [],
   "source": [
    "import urllib "
   ]
  },
  {
   "cell_type": "code",
   "execution_count": 2,
   "metadata": {},
   "outputs": [
    {
     "name": "stdout",
     "output_type": "stream",
     "text": [
      "['__builtins__', '__cached__', '__doc__', '__file__', '__loader__', '__name__', '__package__', '__path__', '__spec__', 'error', 'parse', 'request', 'response']\n"
     ]
    }
   ],
   "source": [
    "print(dir(urllib))"
   ]
  },
  {
   "cell_type": "code",
   "execution_count": 3,
   "metadata": {
    "collapsed": true
   },
   "outputs": [],
   "source": [
    "class Env:\n",
    "    pageUrl = r\"ftp://ftp.cbi.pku.edu.cn/pub/database/DSSP/20130820\" #数据目录地址\n",
    "    toStoragePath = r\"H:\\BioDatas\\DSSP\"     #数据压缩包下载路径\n",
    "    toUpZippedPath=r\"H:\\BioDatas\\DSSP\\UnZipped\"  #解压路径"
   ]
  },
  {
   "cell_type": "code",
   "execution_count": 4,
   "metadata": {},
   "outputs": [],
   "source": [
    "directory = urllib.request.urlopen(Env.pageUrl)\n",
    "dirs = directory.read().decode(\"utf-8\") # 包含所有压缩文件名的字符串。"
   ]
  },
  {
   "cell_type": "code",
   "execution_count": 4,
   "metadata": {},
   "outputs": [],
   "source": [
    "import re"
   ]
  },
  {
   "cell_type": "code",
   "execution_count": 5,
   "metadata": {},
   "outputs": [],
   "source": [
    "# 提取文件名\n",
    "matcher = re.compile(\"([\\w]+\\.dssp\\.gz)\") \n",
    "# Test Regex Expr.\n",
    "fileNames = matcher.findall(dirs)"
   ]
  },
  {
   "cell_type": "code",
   "execution_count": 6,
   "metadata": {},
   "outputs": [],
   "source": [
    "import gzip\n",
    "def storeOneFile(filename):\n",
    "    url = f\"{Env.pageUrl}/{filename}\"\n",
    "    try: \n",
    "        content = urllib.request.urlopen(url).read()\n",
    "    except:\n",
    "        print(f\"error find: in storing processing. filename : {filename}\")\n",
    "        return\n",
    "    \n",
    "    zipFile   = f\"{Env.toStoragePath}/{filename}\"\n",
    "    unZipFile = f'{Env.toUpZippedPath}/{filename.replace(\".gz\",\"\")}'\n",
    "    \n",
    "    with open(zipFile,\"wb\") as f:\n",
    "        f.write(content)\n",
    "    outUnZippedFile = gzip.GzipFile(zipFile)\n",
    "    \n",
    "    with open(unZipFile,'w+',encoding='utf-8') as f:\n",
    "        f.write(outUnZippedFile.read().decode(\"utf-8\"))\n",
    "    outUnZippedFile.close()"
   ]
  },
  {
   "cell_type": "code",
   "execution_count": null,
   "metadata": {},
   "outputs": [],
   "source": [
    "# test : storeOneFile(\"101m.dssp.gz\")\n",
    "for task in map(storeOneFile, fileNames): pass"
   ]
  },
  {
   "cell_type": "code",
   "execution_count": null,
   "metadata": {
    "collapsed": true
   },
   "outputs": [],
   "source": []
  }
 ],
 "metadata": {
  "anaconda-cloud": {},
  "kernelspec": {
   "display_name": "Python 3",
   "language": "python",
   "name": "python3"
  },
  "language_info": {
   "codemirror_mode": {
    "name": "ipython",
    "version": 3
   },
   "file_extension": ".py",
   "mimetype": "text/x-python",
   "name": "python",
   "nbconvert_exporter": "python",
   "pygments_lexer": "ipython3",
   "version": "3.6.2"
  }
 },
 "nbformat": 4,
 "nbformat_minor": 1
}
